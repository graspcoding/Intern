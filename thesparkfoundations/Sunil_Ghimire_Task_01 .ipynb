{
 "cells": [
  {
   "cell_type": "markdown",
   "metadata": {},
   "source": [
    "## Predict the Percentage VS Study Hours \n",
    "\n",
    "#### SUNIL GHIMIRE - DATA SCIENCE INTERSHIP"
   ]
  },
  {
   "cell_type": "markdown",
   "metadata": {},
   "source": [
    "## What is Machine Learning? "
   ]
  },
  {
   "cell_type": "markdown",
   "metadata": {},
   "source": [
    "Machine Learning (ML) is the subset of Artificial Intelligence (AI) and also known as study of computer algorithms focused on developing applications that learns from data and improve accuracy automatically through experience over time without beign programmed to so. \n",
    "\n",
    "An algorithm is a series of statistical processing steps in data science. Algorithms are trained in Machine Learning to make predictions and decisions based on new data by indentifing features and patterns in massive amount of data. As the better algorithm processes more information, the more accurate preductions and decisions will become. \n",
    "\n",
    "Today, everywhere around us are examples of Machine Learning. \n",
    "\n",
    "    1. Based on what we have watched , listened, or bought, websites Like YouTube, Netflix, Amazon recommend movies, songs, and products. \n",
    "    2. In response to our voice commands, digital assistants search the web and play music. \n",
    "    3. Spam detectors to stop unwanted mails\n",
    "    4. And there is more we can expect.\n",
    "\n",
    "As computing becomes more affordable, powerful, and big data keeps getting bigger and as data scientists continue to build more capable algorithms then Machine Learning in our personal and working lives can drive greater and greater productivity. "
   ]
  },
  {
   "cell_type": "markdown",
   "metadata": {},
   "source": [
    "## How machine learning (ML) works?"
   ]
  },
  {
   "cell_type": "markdown",
   "metadata": {},
   "source": [
    "Among various steps, there are four basic and most important steps for building machine learning model which are performed by data scientists. \n",
    "\n",
    "        Step 1: Select and preparing the training data\n",
    "        Step 2: Choose an algorithm to run on the training data set\n",
    "        Step 3: Training the algorithm to create the model\n",
    "        Step 4: Using and improving the model\n",
    "        "
   ]
  },
  {
   "cell_type": "markdown",
   "metadata": {},
   "source": [
    "## Machine Learning Methods "
   ]
  },
  {
   "cell_type": "markdown",
   "metadata": {},
   "source": [
    "Machine Learning methods fall into three primary categories. They are:\n",
    "    1. Supervised Machine Learning \n",
    "    2. Unsupervised Machine Learning \n",
    "    3. Reinforcement Machine Learning"
   ]
  },
  {
   "cell_type": "markdown",
   "metadata": {},
   "source": [
    "    1. Supervised Machine Learning \n",
    "-> On the labelled dataset, supervised machine learning trains itself i.e. the data is labelled with the information that the machine learning algorithm is beign designed to evaluate and that can also be categozied in ways that data will be classified by the model. For example, a computer vision model developed to identify purebred German Shepherd dogs might be trained on a data set of various labeled dog images.\n",
    "Some the Supervised Machine Learning algorithms are:\n",
    "\n",
    "\n",
    "        a. Linear Regression\n",
    "        b. Logistic Regression\n",
    "        c. Support Vector Machine\n",
    "        d. Naive Bayes Classifier\n",
    "        e. Artificial Neural Networks\n",
    "        \n",
    "    2. Unsupervised Machine Learning \n",
    "Unsupervised means to act without anyone’s supervision or without anybody’s direction. Now, here the data is not labeled. There is no guide and the machine has to figure out the data set given and it has to find hidden patterns in order to make predictions about the output. An example of unsupervised learning is an adult-like you and me. We do not need a guide to help us with our daily activities. We can figure things out on our own without any supervision.\n",
    "\n",
    "        a. K-means clustering\n",
    "        b. Principal Component Analysis\n",
    "        c. Generative Adversarial Networks\n",
    "        \n",
    "    3. Reinforcement Machine Learning\n",
    "Reinforcement means to establish or encourage a pattern of behavior. It is a learning method wherein an agent learns by producing actions and discovers errors or rewards. Once the agent gets trained it gets ready to predict the new data presented to it.\n",
    "\n",
    "Let’s say a child is born. What will he do? But after some months or years, he tries to walk. So here he basically follows the hit and trial concept because he is new to the surroundings and the only way to learn is experience. We notice baby stretching and kicking his legs and starts to roll over. Then he starts crawling.  He then tries to stand up but he fails in doing so for many attempts. Then the baby will learn to support all his weight when held in a standing position. This is what reinforcement learning is. "
   ]
  },
  {
   "cell_type": "markdown",
   "metadata": {},
   "source": [
    "#### The First task of Sparks Foundation is based on Linear Regression for predicting the percentage based on Study Hours"
   ]
  },
  {
   "cell_type": "markdown",
   "metadata": {},
   "source": [
    "### Regression"
   ]
  },
  {
   "cell_type": "markdown",
   "metadata": {},
   "source": [
    "While classification deals with predicting discrete classes, regression is used in predicting continuous numerical valued classes. Regression is also falls under supervised learning generally used to answer “How much?” or “How many?”. Regressions create relationships and correlations between different types of data. Linear Regression is the most common regression algorithm."
   ]
  },
  {
   "cell_type": "markdown",
   "metadata": {},
   "source": [
    "### Linear Regression"
   ]
  },
  {
   "cell_type": "markdown",
   "metadata": {},
   "source": [
    "The relationship between the independent variables (X) and dependent variables (y) is represented by the\n",
    "following equation:\n",
    "\n",
    "y = mX + c where y is the dependent variables which we are going to estimate or predict and X is the\n",
    "independent variables which we going to make predictions. m is the slope of regression line which represent\n",
    "the effect X has on y.\n",
    "\n",
    "If X increases by 1 unit then y increases by m unit. This contidion will be true if X and y has linear relationship.\n",
    "c is known as constant or y-intercept.\n",
    "\n",
    "In this lab session, we are going to build simple linear regression model based on data where slope(m) and yintercept(c) is derived from the data. The build regression model also includes error in data called residuals\n",
    "error which is the difference between the actual value and predicted value of y. Data provided to fit the linear\n",
    "regression is the continous value, so are going to predict the continous value. We are going to minimize Root\n",
    "Mean Square error.\n"
   ]
  },
  {
   "cell_type": "markdown",
   "metadata": {},
   "source": [
    "## Importing required Libraries"
   ]
  },
  {
   "cell_type": "markdown",
   "metadata": {},
   "source": [
    "1. NumPy : Numpy is a package in python used for scientific calculating and perform various operations.\n",
    "Numpy Array is a multidimensional array whose indexed is similar to Sequences which is start with Zero that\n",
    "is used to store values of same datatype Numpy in python uses less memory to store data as compared\n",
    "with python list. Numpy provides multiple functions they are where, nonzero and count_nonzero for finding\n",
    "the element.\n",
    "\n",
    "\n",
    "2. Pandas : Pandas is the most and favourite data science liabrary writtem for the python programming\n",
    "lanaguage for data manimulation and analysis also provides high_performance, easy to use strcutures and\n",
    "data analysis tools.\n",
    "\n",
    "\n",
    "3. Matplotlib : Matlpotlib which was introduced by John Hunter is a multi-platform data visualization library\n",
    "built on Numpy arrays and designed to work with the broader SciPY stack. Similarly, Maltplot.pyplot is a\n",
    "collection of command style functions that make matplotlib work like MATLAB. Pyplot is mainly intented for\n",
    "interactive plots and simple cases of programmatic plot generation.\n",
    "\n",
    "\n",
    "4. Seaborn: Seaborn is a python data data visualization library based on matplotlib which provides high-level\n",
    "interfrace for drawing atractive and informative statistical graph."
   ]
  },
  {
   "cell_type": "code",
   "execution_count": 1,
   "metadata": {},
   "outputs": [],
   "source": [
    "import pandas as pd \n",
    "import numpy as np\n",
    "import matplotlib.pyplot as plt\n",
    "import seaborn as sns"
   ]
  },
  {
   "cell_type": "markdown",
   "metadata": {},
   "source": [
    "## Importing the dataset"
   ]
  },
  {
   "cell_type": "code",
   "execution_count": 2,
   "metadata": {},
   "outputs": [],
   "source": [
    "data = pd.read_csv('./data.csv')"
   ]
  },
  {
   "cell_type": "markdown",
   "metadata": {},
   "source": [
    "Let's check number of rows and columns of our dataset where rows and columns are stores as a tuple (number\n",
    "of rows, number of columns). \n",
    "\n",
    "In our imported dataset\n",
    "Number of rows are 25 and Number of columns are 2"
   ]
  },
  {
   "cell_type": "code",
   "execution_count": 3,
   "metadata": {},
   "outputs": [
    {
     "data": {
      "text/plain": [
       "(25, 2)"
      ]
     },
     "execution_count": 3,
     "metadata": {},
     "output_type": "execute_result"
    }
   ],
   "source": [
    "data.shape"
   ]
  },
  {
   "cell_type": "code",
   "execution_count": 4,
   "metadata": {},
   "outputs": [
    {
     "data": {
      "text/html": [
       "<div>\n",
       "<style scoped>\n",
       "    .dataframe tbody tr th:only-of-type {\n",
       "        vertical-align: middle;\n",
       "    }\n",
       "\n",
       "    .dataframe tbody tr th {\n",
       "        vertical-align: top;\n",
       "    }\n",
       "\n",
       "    .dataframe thead th {\n",
       "        text-align: right;\n",
       "    }\n",
       "</style>\n",
       "<table border=\"1\" class=\"dataframe\">\n",
       "  <thead>\n",
       "    <tr style=\"text-align: right;\">\n",
       "      <th></th>\n",
       "      <th>Hours</th>\n",
       "      <th>Scores</th>\n",
       "    </tr>\n",
       "  </thead>\n",
       "  <tbody>\n",
       "    <tr>\n",
       "      <th>0</th>\n",
       "      <td>2.5</td>\n",
       "      <td>21</td>\n",
       "    </tr>\n",
       "    <tr>\n",
       "      <th>1</th>\n",
       "      <td>5.1</td>\n",
       "      <td>47</td>\n",
       "    </tr>\n",
       "    <tr>\n",
       "      <th>2</th>\n",
       "      <td>3.2</td>\n",
       "      <td>27</td>\n",
       "    </tr>\n",
       "    <tr>\n",
       "      <th>3</th>\n",
       "      <td>8.5</td>\n",
       "      <td>75</td>\n",
       "    </tr>\n",
       "    <tr>\n",
       "      <th>4</th>\n",
       "      <td>3.5</td>\n",
       "      <td>30</td>\n",
       "    </tr>\n",
       "  </tbody>\n",
       "</table>\n",
       "</div>"
      ],
      "text/plain": [
       "   Hours  Scores\n",
       "0    2.5      21\n",
       "1    5.1      47\n",
       "2    3.2      27\n",
       "3    8.5      75\n",
       "4    3.5      30"
      ]
     },
     "execution_count": 4,
     "metadata": {},
     "output_type": "execute_result"
    }
   ],
   "source": [
    "data.head()"
   ]
  },
  {
   "cell_type": "markdown",
   "metadata": {},
   "source": [
    "Pandas descibe() method is used to view some basic stastistical details like percentile, mean, standard\n",
    "deviation"
   ]
  },
  {
   "cell_type": "code",
   "execution_count": 5,
   "metadata": {},
   "outputs": [
    {
     "data": {
      "text/html": [
       "<div>\n",
       "<style scoped>\n",
       "    .dataframe tbody tr th:only-of-type {\n",
       "        vertical-align: middle;\n",
       "    }\n",
       "\n",
       "    .dataframe tbody tr th {\n",
       "        vertical-align: top;\n",
       "    }\n",
       "\n",
       "    .dataframe thead th {\n",
       "        text-align: right;\n",
       "    }\n",
       "</style>\n",
       "<table border=\"1\" class=\"dataframe\">\n",
       "  <thead>\n",
       "    <tr style=\"text-align: right;\">\n",
       "      <th></th>\n",
       "      <th>Hours</th>\n",
       "      <th>Scores</th>\n",
       "    </tr>\n",
       "  </thead>\n",
       "  <tbody>\n",
       "    <tr>\n",
       "      <th>count</th>\n",
       "      <td>25.000000</td>\n",
       "      <td>25.000000</td>\n",
       "    </tr>\n",
       "    <tr>\n",
       "      <th>mean</th>\n",
       "      <td>5.012000</td>\n",
       "      <td>51.360000</td>\n",
       "    </tr>\n",
       "    <tr>\n",
       "      <th>std</th>\n",
       "      <td>2.525094</td>\n",
       "      <td>25.122832</td>\n",
       "    </tr>\n",
       "    <tr>\n",
       "      <th>min</th>\n",
       "      <td>1.100000</td>\n",
       "      <td>17.000000</td>\n",
       "    </tr>\n",
       "    <tr>\n",
       "      <th>25%</th>\n",
       "      <td>2.700000</td>\n",
       "      <td>30.000000</td>\n",
       "    </tr>\n",
       "    <tr>\n",
       "      <th>50%</th>\n",
       "      <td>4.800000</td>\n",
       "      <td>47.000000</td>\n",
       "    </tr>\n",
       "    <tr>\n",
       "      <th>75%</th>\n",
       "      <td>7.400000</td>\n",
       "      <td>75.000000</td>\n",
       "    </tr>\n",
       "    <tr>\n",
       "      <th>max</th>\n",
       "      <td>9.200000</td>\n",
       "      <td>95.000000</td>\n",
       "    </tr>\n",
       "  </tbody>\n",
       "</table>\n",
       "</div>"
      ],
      "text/plain": [
       "           Hours     Scores\n",
       "count  25.000000  25.000000\n",
       "mean    5.012000  51.360000\n",
       "std     2.525094  25.122832\n",
       "min     1.100000  17.000000\n",
       "25%     2.700000  30.000000\n",
       "50%     4.800000  47.000000\n",
       "75%     7.400000  75.000000\n",
       "max     9.200000  95.000000"
      ]
     },
     "execution_count": 5,
     "metadata": {},
     "output_type": "execute_result"
    }
   ],
   "source": [
    "data.describe()"
   ]
  },
  {
   "cell_type": "markdown",
   "metadata": {},
   "source": [
    "checked for NULL values and a boolean series is returned by the isnull() method which stores True for ever NaN value and False for a Not null value. "
   ]
  },
  {
   "cell_type": "code",
   "execution_count": 6,
   "metadata": {},
   "outputs": [
    {
     "data": {
      "text/plain": [
       "Hours     False\n",
       "Scores    False\n",
       "dtype: bool"
      ]
     },
     "execution_count": 6,
     "metadata": {},
     "output_type": "execute_result"
    }
   ],
   "source": [
    "data.isnull().any()"
   ]
  },
  {
   "cell_type": "markdown",
   "metadata": {},
   "source": [
    "The below is the 2D graph between 'Study Hours' and 'Scores Plot' to find relationship between dependent\n",
    "and independet variable"
   ]
  },
  {
   "cell_type": "code",
   "execution_count": 7,
   "metadata": {},
   "outputs": [
    {
     "data": {
      "image/png": "[encoded data removed]",
      "text/plain": [
       "<Figure size 432x288 with 1 Axes>"
      ]
     },
     "metadata": {
      "needs_background": "light"
     },
     "output_type": "display_data"
    }
   ],
   "source": [
    "data.plot(x = 'Hours', y ='Scores', style = 'o')\n",
    "plt.title('Study Hours VS Score Plot')\n",
    "plt.xlabel('Study Hours')\n",
    "plt.ylabel('Score Plot')\n",
    "plt.show()"
   ]
  },
  {
   "cell_type": "markdown",
   "metadata": {},
   "source": [
    "Now, I am going to check the average salary, once I visulize the graph I can observer that the average salary is\n",
    "between 40 to 60.\n"
   ]
  },
  {
   "cell_type": "code",
   "execution_count": 8,
   "metadata": {},
   "outputs": [
    {
     "data": {
      "text/plain": [
       "<matplotlib.axes._subplots.AxesSubplot at 0x1ced2ba6390>"
      ]
     },
     "execution_count": 8,
     "metadata": {},
     "output_type": "execute_result"
    },
    {
     "data": {
      "image/png": "[encoded data removed]",
      "text/plain": [
       "<Figure size 576x576 with 1 Axes>"
      ]
     },
     "metadata": {
      "needs_background": "light"
     },
     "output_type": "display_data"
    }
   ],
   "source": [
    "plt.figure(figsize = (8,8))\n",
    "plt.tight_layout()\n",
    "sns.distplot(data['Scores'])"
   ]
  },
  {
   "cell_type": "markdown",
   "metadata": {},
   "source": [
    "Now,our next task is to separate features and labels from our dataset. Our dataset contain only 2 columns\n",
    "where first column i.e. Study Hours is independent variables and second column i.e. Score is the\n",
    "dependent variable whose values are to be predicted. We want to predict Score depending upon the\n",
    "Study Hours.\n",
    "\n",
    "So, we want store Study Hours in X variable and Scores to y variable."
   ]
  },
  {
   "cell_type": "code",
   "execution_count": 9,
   "metadata": {},
   "outputs": [],
   "source": [
    "X = data.iloc[:, data.columns == 'Hours'].values.reshape(-1,1)"
   ]
  },
  {
   "cell_type": "code",
   "execution_count": 10,
   "metadata": {},
   "outputs": [],
   "source": [
    "y = data.iloc[:, data.columns == 'Scores'].values.reshape(-1,1)"
   ]
  },
  {
   "cell_type": "markdown",
   "metadata": {},
   "source": [
    "sklearn provides best function for partioning data into training set and testing set. We provide ceratin proportion of data to use as test set and we can provide the parameter random_state to ensure repeatable results. We split 80% of the data to the training set while 20% of data to the test using the below code. The test_size variable is where spefify the proportion of the test set."
   ]
  },
  {
   "cell_type": "code",
   "execution_count": 11,
   "metadata": {},
   "outputs": [],
   "source": [
    "# Splitting the dataset into the Training set and Test set\n",
    "from sklearn.model_selection import train_test_split\n",
    "X_train, X_test, y_train, y_test = train_test_split(X, y, test_size = 0.2, random_state = 70311)"
   ]
  },
  {
   "cell_type": "markdown",
   "metadata": {},
   "source": [
    "After spliting data into train set and test set, now our job is to train our algorithm. For that we need to import\n",
    "LinearRegression to minimize the residual error of squares bwtween the observed target in the dataset, and\n",
    "the targets predicted by the linear approximation.\n",
    "\n",
    "Now, call the fit() method along with our training data.\n",
    "\n",
    "After training our algorithm, now time to make some predictions. For this we are going to use our test data and\n",
    "see how correctly our algorithm predicts the percentage score."
   ]
  },
  {
   "cell_type": "code",
   "execution_count": 12,
   "metadata": {},
   "outputs": [],
   "source": [
    "# Fitting Simple Linear Regression to the Training set\n",
    "from sklearn.linear_model import LinearRegression\n",
    "regressor = LinearRegression()\n",
    "regressor.fit(X_train, y_train) ## training the algorithm\n",
    "# Predicting the Test set results\n",
    "y_pred = regressor.predict(X_test)"
   ]
  },
  {
   "cell_type": "code",
   "execution_count": 13,
   "metadata": {},
   "outputs": [
    {
     "name": "stdout",
     "output_type": "stream",
     "text": [
      "[2.57094941]\n"
     ]
    }
   ],
   "source": [
    "print(regressor.intercept_) # to retrieve the intercept"
   ]
  },
  {
   "cell_type": "code",
   "execution_count": 14,
   "metadata": {},
   "outputs": [
    {
     "name": "stdout",
     "output_type": "stream",
     "text": [
      "[[9.58555568]]\n"
     ]
    }
   ],
   "source": [
    "print(regressor.coef_) # to retreive the slope"
   ]
  },
  {
   "cell_type": "markdown",
   "metadata": {},
   "source": [
    "The below 2D graph between the 'Hours' and 'Score' from the training set. Where the dependent variable 'Score' close nearer to the independent variable 'Hours'"
   ]
  },
  {
   "cell_type": "code",
   "execution_count": 15,
   "metadata": {},
   "outputs": [
    {
     "name": "stdout",
     "output_type": "stream",
     "text": [
      "0.9412772213384645\n"
     ]
    }
   ],
   "source": [
    "print(regressor.score(X_train, y_train))"
   ]
  },
  {
   "cell_type": "code",
   "execution_count": 16,
   "metadata": {},
   "outputs": [
    {
     "data": {
      "image/png": "[encoded data removed]",
      "text/plain": [
       "<Figure size 432x288 with 1 Axes>"
      ]
     },
     "metadata": {
      "needs_background": "light"
     },
     "output_type": "display_data"
    }
   ],
   "source": [
    "# Visualising the Training set results\n",
    "plt.scatter(X_train, y_train, color = 'red')\n",
    "plt.plot(X_train, regressor.predict(X_train), color = 'blue')\n",
    "plt.title('Study Hours VS Scores Plot(Training set)')\n",
    "plt.xlabel('Study Hours')\n",
    "plt.ylabel('Scores Plot')\n",
    "plt.show()\n"
   ]
  },
  {
   "cell_type": "markdown",
   "metadata": {},
   "source": [
    "Now compare the the actual output with predict output, using following script"
   ]
  },
  {
   "cell_type": "code",
   "execution_count": 17,
   "metadata": {},
   "outputs": [
    {
     "data": {
      "text/html": [
       "<div>\n",
       "<style scoped>\n",
       "    .dataframe tbody tr th:only-of-type {\n",
       "        vertical-align: middle;\n",
       "    }\n",
       "\n",
       "    .dataframe tbody tr th {\n",
       "        vertical-align: top;\n",
       "    }\n",
       "\n",
       "    .dataframe thead th {\n",
       "        text-align: right;\n",
       "    }\n",
       "</style>\n",
       "<table border=\"1\" class=\"dataframe\">\n",
       "  <thead>\n",
       "    <tr style=\"text-align: right;\">\n",
       "      <th></th>\n",
       "      <th>Actual</th>\n",
       "      <th>Predicted</th>\n",
       "    </tr>\n",
       "  </thead>\n",
       "  <tbody>\n",
       "    <tr>\n",
       "      <th>0</th>\n",
       "      <td>83</td>\n",
       "      <td>77.338284</td>\n",
       "    </tr>\n",
       "    <tr>\n",
       "      <th>1</th>\n",
       "      <td>95</td>\n",
       "      <td>87.882395</td>\n",
       "    </tr>\n",
       "    <tr>\n",
       "      <th>2</th>\n",
       "      <td>54</td>\n",
       "      <td>48.581617</td>\n",
       "    </tr>\n",
       "    <tr>\n",
       "      <th>3</th>\n",
       "      <td>88</td>\n",
       "      <td>90.758062</td>\n",
       "    </tr>\n",
       "    <tr>\n",
       "      <th>4</th>\n",
       "      <td>24</td>\n",
       "      <td>20.783505</td>\n",
       "    </tr>\n",
       "  </tbody>\n",
       "</table>\n",
       "</div>"
      ],
      "text/plain": [
       "   Actual  Predicted\n",
       "0      83  77.338284\n",
       "1      95  87.882395\n",
       "2      54  48.581617\n",
       "3      88  90.758062\n",
       "4      24  20.783505"
      ]
     },
     "execution_count": 17,
     "metadata": {},
     "output_type": "execute_result"
    }
   ],
   "source": [
    "df = pd.DataFrame({'Actual': y_test.flatten(), 'Predicted': y_pred.flatten()})\n",
    "df"
   ]
  },
  {
   "cell_type": "markdown",
   "metadata": {},
   "source": [
    "We can use the bar graph to compare result between the actual and predicted results. The number of record is huge, for visulizing the graph I am taking only 10 records. The below graph shows that our model is precise. The predicted values are close nearer to actual values."
   ]
  },
  {
   "cell_type": "code",
   "execution_count": 18,
   "metadata": {},
   "outputs": [
    {
     "data": {
      "image/png": "[encoded data removed]",
      "text/plain": [
       "<Figure size 1152x720 with 1 Axes>"
      ]
     },
     "metadata": {
      "needs_background": "light"
     },
     "output_type": "display_data"
    }
   ],
   "source": [
    "df1 = df.head(10)\n",
    "df1.plot(kind='bar',figsize=(16,10))\n",
    "plt.grid(which='major', linestyle='-', linewidth='0.5', color='green')\n",
    "plt.grid(which='minor', linestyle=':', linewidth='0.5', color='black')\n",
    "plt.show()"
   ]
  },
  {
   "cell_type": "code",
   "execution_count": 19,
   "metadata": {},
   "outputs": [
    {
     "data": {
      "image/png": "[encoded data removed]",
      "text/plain": [
       "<Figure size 432x288 with 1 Axes>"
      ]
     },
     "metadata": {
      "needs_background": "light"
     },
     "output_type": "display_data"
    }
   ],
   "source": [
    "# Visualising the Test set results\n",
    "plt.scatter(X_test, y_test, color = 'red')\n",
    "plt.plot(X_train, regressor.predict(X_train), color = 'blue')\n",
    "plt.title('Study Hours vs Score Plot(Test set)')\n",
    "plt.xlabel('Study Hours')\n",
    "plt.ylabel('Score Plots')\n",
    "plt.show()\n"
   ]
  },
  {
   "cell_type": "markdown",
   "metadata": {},
   "source": [
    "The straight line passing through each scatter point shows in the above graph shows our algorithm is correct."
   ]
  },
  {
   "cell_type": "code",
   "execution_count": 20,
   "metadata": {},
   "outputs": [
    {
     "name": "stdout",
     "output_type": "stream",
     "text": [
      "Mean Absolute Error: 4.834452214685252\n",
      "Mean Squared Error: 26.0053905821375\n",
      "Root Mean Squared Error: 5.099548076264945\n"
     ]
    }
   ],
   "source": [
    "from sklearn import metrics\n",
    "print('Mean Absolute Error:', metrics.mean_absolute_error(y_test, y_pred))\n",
    "print('Mean Squared Error:', metrics.mean_squared_error(y_test, y_pred))\n",
    "print('Root Mean Squared Error:', np.sqrt(metrics.mean_squared_error(y_test, y_pred)))"
   ]
  },
  {
   "cell_type": "markdown",
   "metadata": {},
   "source": [
    "Mean Absolute Error (MAE) , Mean Squared Error (MSE) and Root Mean Squared Error (RMSE) are the evaluation metrics  of linear regression to compare how well algorithm perform on a particular dataset.\n",
    "    1. Mean Absolute Error (MAE): Mean of absolute value of the error which is calculated as:\n",
    "MAE = $\n",
    "\\frac{1}n\\sum_{i=1}^n|Y_i - y_i|\n",
    "$\n",
    "\n",
    "    2. Mean Squared Error: It is mean of the squared errors which is calculated as:\n",
    "MSE = $\n",
    "\\frac{1}n\\sum_{i=1}^n(Y_i - y_i)^2\n",
    "$\n",
    "\n",
    "    3. Root Mean Squared Error (RMSE): It is squared root of the mean of the squred errors and whihc is calculated as:\n",
    "RMSE = $\\sqrt{\\frac{1}n\\sum_{i=1}^n(Y_i - y_i)^2}$\n",
    "\n",
    "Here, the root mean square value error is 5704.13 which is smaller to the mean value of Salary i.e. 76003. This means that our algorithms is very accurate for good predictions"
   ]
  },
  {
   "cell_type": "markdown",
   "metadata": {},
   "source": [
    "$$GRIP-TASK-01 (Data Science) - The Spark Foundation - Sunil Ghimire\n",
    "$$"
   ]
  },
  {
   "cell_type": "code",
   "execution_count": null,
   "metadata": {},
   "outputs": [],
   "source": []
  }
 ],
 "metadata": {
  "kernelspec": {
   "display_name": "Python 3",
   "language": "python",
   "name": "python3"
  },
  "language_info": {
   "codemirror_mode": {
    "name": "ipython",
    "version": 3
   },
   "file_extension": ".py",
   "mimetype": "text/x-python",
   "name": "python",
   "nbconvert_exporter": "python",
   "pygments_lexer": "ipython3",
   "version": "3.7.3"
  }
 },
 "nbformat": 4,
 "nbformat_minor": 2
}
